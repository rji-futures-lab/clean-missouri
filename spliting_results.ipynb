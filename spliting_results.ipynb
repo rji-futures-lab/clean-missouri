{
 "cells": [
  {
   "cell_type": "code",
   "execution_count": 1,
   "metadata": {},
   "outputs": [],
   "source": [
    "import pandas as pd"
   ]
  },
  {
   "cell_type": "markdown",
   "metadata": {},
   "source": [
    "## All results"
   ]
  },
  {
   "cell_type": "code",
   "execution_count": 2,
   "metadata": {},
   "outputs": [],
   "source": [
    "all_results = pd.read_csv(\n",
    "    \"data.csv\", usecols=[0, 1, 2, 3, 4, 5]\n",
    ")"
   ]
  },
  {
   "cell_type": "code",
   "execution_count": 3,
   "metadata": {},
   "outputs": [
    {
     "name": "stdout",
     "output_type": "stream",
     "text": [
      "<class 'pandas.core.frame.DataFrame'>\n",
      "RangeIndex: 13703 entries, 0 to 13702\n",
      "Data columns (total 6 columns):\n",
      " #   Column                 Non-Null Count  Dtype  \n",
      "---  ------                 --------------  -----  \n",
      " 0   county_name            13703 non-null  object \n",
      " 1   precinct_name          13703 non-null  object \n",
      " 2   office_title           13703 non-null  object \n",
      " 3   candidate_ballot_name  11161 non-null  object \n",
      " 4   yes_votes              13703 non-null  int64  \n",
      " 5   no_votes               3199 non-null   float64\n",
      "dtypes: float64(1), int64(1), object(4)\n",
      "memory usage: 642.5+ KB\n"
     ]
    }
   ],
   "source": [
    "all_results.info()"
   ]
  },
  {
   "cell_type": "code",
   "execution_count": 4,
   "metadata": {},
   "outputs": [
    {
     "data": {
      "text/html": [
       "<div>\n",
       "<style scoped>\n",
       "    .dataframe tbody tr th:only-of-type {\n",
       "        vertical-align: middle;\n",
       "    }\n",
       "\n",
       "    .dataframe tbody tr th {\n",
       "        vertical-align: top;\n",
       "    }\n",
       "\n",
       "    .dataframe thead th {\n",
       "        text-align: right;\n",
       "    }\n",
       "</style>\n",
       "<table border=\"1\" class=\"dataframe\">\n",
       "  <thead>\n",
       "    <tr style=\"text-align: right;\">\n",
       "      <th></th>\n",
       "      <th>county_name</th>\n",
       "      <th>precinct_name</th>\n",
       "      <th>office_title</th>\n",
       "      <th>candidate_ballot_name</th>\n",
       "      <th>yes_votes</th>\n",
       "      <th>no_votes</th>\n",
       "    </tr>\n",
       "  </thead>\n",
       "  <tbody>\n",
       "    <tr>\n",
       "      <th>0</th>\n",
       "      <td>Adair</td>\n",
       "      <td>SOUTHWEST 1</td>\n",
       "      <td>State Senator - District 18</td>\n",
       "      <td>Cindy O'Laughlin</td>\n",
       "      <td>283</td>\n",
       "      <td>NaN</td>\n",
       "    </tr>\n",
       "    <tr>\n",
       "      <th>1</th>\n",
       "      <td>Adair</td>\n",
       "      <td>SOUTHEAST 2</td>\n",
       "      <td>State Senator - District 18</td>\n",
       "      <td>Cindy O'Laughlin</td>\n",
       "      <td>635</td>\n",
       "      <td>NaN</td>\n",
       "    </tr>\n",
       "    <tr>\n",
       "      <th>2</th>\n",
       "      <td>Adair</td>\n",
       "      <td>SOUTHEAST 3</td>\n",
       "      <td>State Senator - District 18</td>\n",
       "      <td>Cindy O'Laughlin</td>\n",
       "      <td>194</td>\n",
       "      <td>NaN</td>\n",
       "    </tr>\n",
       "    <tr>\n",
       "      <th>3</th>\n",
       "      <td>Adair</td>\n",
       "      <td>SOUTHEAST 4</td>\n",
       "      <td>State Senator - District 18</td>\n",
       "      <td>Cindy O'Laughlin</td>\n",
       "      <td>325</td>\n",
       "      <td>NaN</td>\n",
       "    </tr>\n",
       "    <tr>\n",
       "      <th>4</th>\n",
       "      <td>Adair</td>\n",
       "      <td>NORTHEAST 5</td>\n",
       "      <td>State Senator - District 18</td>\n",
       "      <td>Cindy O'Laughlin</td>\n",
       "      <td>396</td>\n",
       "      <td>NaN</td>\n",
       "    </tr>\n",
       "  </tbody>\n",
       "</table>\n",
       "</div>"
      ],
      "text/plain": [
       "  county_name precinct_name                 office_title  \\\n",
       "0       Adair   SOUTHWEST 1  State Senator - District 18   \n",
       "1       Adair   SOUTHEAST 2  State Senator - District 18   \n",
       "2       Adair   SOUTHEAST 3  State Senator - District 18   \n",
       "3       Adair   SOUTHEAST 4  State Senator - District 18   \n",
       "4       Adair   NORTHEAST 5  State Senator - District 18   \n",
       "\n",
       "  candidate_ballot_name  yes_votes  no_votes  \n",
       "0      Cindy O'Laughlin        283       NaN  \n",
       "1      Cindy O'Laughlin        635       NaN  \n",
       "2      Cindy O'Laughlin        194       NaN  \n",
       "3      Cindy O'Laughlin        325       NaN  \n",
       "4      Cindy O'Laughlin        396       NaN  "
      ]
     },
     "execution_count": 4,
     "metadata": {},
     "output_type": "execute_result"
    }
   ],
   "source": [
    "all_results.head()"
   ]
  },
  {
   "cell_type": "markdown",
   "metadata": {},
   "source": [
    "The plan:\n",
    "\n",
    "- Split legislative race results and constitutional amendment results into separate DataFrames\n",
    "- How many distinct precincts are there in the constitutional amendment results?\n",
    "- In the legislative results, add computed columns for office type and district\n",
    "- Split the senate results from the house results\n",
    "- Find any precincts in house results with results for multiple districts\n",
    "- Find any precincts in senate results with results for multiple districts"
   ]
  },
  {
   "cell_type": "code",
   "execution_count": 5,
   "metadata": {},
   "outputs": [],
   "source": [
    "all_results.office_title \\\n",
    "    .value_counts() \\\n",
    "    .reset_index() \\\n",
    "    .to_csv('office_title_counts.csv', index=False)"
   ]
  },
  {
   "cell_type": "code",
   "execution_count": 6,
   "metadata": {},
   "outputs": [],
   "source": [
    "all_results \\\n",
    "    .groupby(['county_name', 'precinct_name']) \\\n",
    "    .office_title.count() \\\n",
    "    .reset_index() \\\n",
    "    .to_csv('office_titles_per_precinct.csv', index=False)"
   ]
  },
  {
   "cell_type": "markdown",
   "metadata": {},
   "source": [
    "## Constitutional Amendment 1 results\n",
    "\n",
    "- Filter to rows where `office_title` equals `'Constitutional Amendment No. 1'`\n",
    "- Reset the index\n",
    "- Drop the `office_title` and `candidate_ballot_name` columns\n",
    "- Switch the data_type of the `no_votes` column to an integer"
   ]
  },
  {
   "cell_type": "code",
   "execution_count": 7,
   "metadata": {},
   "outputs": [],
   "source": [
    "is_amend = all_results['office_title'] == 'Constitutional Amendment No. 1'"
   ]
  },
  {
   "cell_type": "code",
   "execution_count": 8,
   "metadata": {},
   "outputs": [],
   "source": [
    "amend_results = all_results[is_amend] \\\n",
    "    .reset_index(drop=True) \\\n",
    "    .drop(columns=['office_title', 'candidate_ballot_name']) "
   ]
  },
  {
   "cell_type": "code",
   "execution_count": 9,
   "metadata": {},
   "outputs": [],
   "source": [
    "amend_results.no_votes = amend_results.no_votes.astype('int64')"
   ]
  },
  {
   "cell_type": "code",
   "execution_count": 10,
   "metadata": {},
   "outputs": [
    {
     "name": "stdout",
     "output_type": "stream",
     "text": [
      "<class 'pandas.core.frame.DataFrame'>\n",
      "RangeIndex: 3199 entries, 0 to 3198\n",
      "Data columns (total 4 columns):\n",
      " #   Column         Non-Null Count  Dtype \n",
      "---  ------         --------------  ----- \n",
      " 0   county_name    3199 non-null   object\n",
      " 1   precinct_name  3199 non-null   object\n",
      " 2   yes_votes      3199 non-null   int64 \n",
      " 3   no_votes       3199 non-null   int64 \n",
      "dtypes: int64(2), object(2)\n",
      "memory usage: 100.1+ KB\n"
     ]
    }
   ],
   "source": [
    "amend_results.info()"
   ]
  },
  {
   "cell_type": "code",
   "execution_count": 11,
   "metadata": {},
   "outputs": [
    {
     "data": {
      "text/html": [
       "<div>\n",
       "<style scoped>\n",
       "    .dataframe tbody tr th:only-of-type {\n",
       "        vertical-align: middle;\n",
       "    }\n",
       "\n",
       "    .dataframe tbody tr th {\n",
       "        vertical-align: top;\n",
       "    }\n",
       "\n",
       "    .dataframe thead th {\n",
       "        text-align: right;\n",
       "    }\n",
       "</style>\n",
       "<table border=\"1\" class=\"dataframe\">\n",
       "  <thead>\n",
       "    <tr style=\"text-align: right;\">\n",
       "      <th></th>\n",
       "      <th>county_name</th>\n",
       "      <th>precinct_name</th>\n",
       "      <th>yes_votes</th>\n",
       "      <th>no_votes</th>\n",
       "    </tr>\n",
       "  </thead>\n",
       "  <tbody>\n",
       "    <tr>\n",
       "      <th>0</th>\n",
       "      <td>Adair</td>\n",
       "      <td>SOUTHWEST 1</td>\n",
       "      <td>342</td>\n",
       "      <td>159</td>\n",
       "    </tr>\n",
       "    <tr>\n",
       "      <th>1</th>\n",
       "      <td>Adair</td>\n",
       "      <td>SOUTHEAST 2</td>\n",
       "      <td>688</td>\n",
       "      <td>394</td>\n",
       "    </tr>\n",
       "    <tr>\n",
       "      <th>2</th>\n",
       "      <td>Adair</td>\n",
       "      <td>SOUTHEAST 3</td>\n",
       "      <td>374</td>\n",
       "      <td>156</td>\n",
       "    </tr>\n",
       "    <tr>\n",
       "      <th>3</th>\n",
       "      <td>Adair</td>\n",
       "      <td>SOUTHEAST 4</td>\n",
       "      <td>500</td>\n",
       "      <td>212</td>\n",
       "    </tr>\n",
       "    <tr>\n",
       "      <th>4</th>\n",
       "      <td>Adair</td>\n",
       "      <td>NORTHEAST 5</td>\n",
       "      <td>418</td>\n",
       "      <td>235</td>\n",
       "    </tr>\n",
       "  </tbody>\n",
       "</table>\n",
       "</div>"
      ],
      "text/plain": [
       "  county_name precinct_name  yes_votes  no_votes\n",
       "0       Adair   SOUTHWEST 1        342       159\n",
       "1       Adair   SOUTHEAST 2        688       394\n",
       "2       Adair   SOUTHEAST 3        374       156\n",
       "3       Adair   SOUTHEAST 4        500       212\n",
       "4       Adair   NORTHEAST 5        418       235"
      ]
     },
     "execution_count": 11,
     "metadata": {},
     "output_type": "execute_result"
    }
   ],
   "source": [
    "amend_results.head()"
   ]
  },
  {
   "cell_type": "markdown",
   "metadata": {},
   "source": [
    "### How many voters voted for or against Amendment 1?"
   ]
  },
  {
   "cell_type": "code",
   "execution_count": 12,
   "metadata": {},
   "outputs": [],
   "source": [
    "amend_voters_count = amend_results.yes_votes.sum() + amend_results.no_votes.sum()"
   ]
  },
  {
   "cell_type": "code",
   "execution_count": 13,
   "metadata": {},
   "outputs": [
    {
     "data": {
      "text/plain": [
       "2368729"
      ]
     },
     "execution_count": 13,
     "metadata": {},
     "output_type": "execute_result"
    }
   ],
   "source": [
    "amend_voters_count"
   ]
  },
  {
   "cell_type": "markdown",
   "metadata": {},
   "source": [
    "### How many precincts with voters who voted for or against Amendment 1?"
   ]
  },
  {
   "cell_type": "code",
   "execution_count": 14,
   "metadata": {},
   "outputs": [],
   "source": [
    "amend_precincts_count = len(amend_results)"
   ]
  },
  {
   "cell_type": "code",
   "execution_count": 15,
   "metadata": {},
   "outputs": [
    {
     "data": {
      "text/plain": [
       "3199"
      ]
     },
     "execution_count": 15,
     "metadata": {},
     "output_type": "execute_result"
    }
   ],
   "source": [
    "amend_precincts_count"
   ]
  },
  {
   "cell_type": "markdown",
   "metadata": {},
   "source": [
    "## Senate results\n",
    "\n",
    "- Filter to rows where th- Filter to rows where the `office_title` contains `'Senator'`\n",
    "- Reset the index\n",
    "- Add a column that contains the district number\n",
    "- Drop the `office_title` column\n",
    "- Drop the `no_votes` columne `office_title` contains `'Senator'`\n",
    "- Add a column that contains the district number\n",
    "- Drop the `office_title` column\n",
    "- Drop the `no_votes` column"
   ]
  },
  {
   "cell_type": "code",
   "execution_count": 16,
   "metadata": {},
   "outputs": [],
   "source": [
    "contains_senator = all_results.office_title.str.contains('Senator')"
   ]
  },
  {
   "cell_type": "code",
   "execution_count": 17,
   "metadata": {},
   "outputs": [],
   "source": [
    "senate_results = all_results[contains_senator] \\\n",
    "    .reset_index(drop=True)"
   ]
  },
  {
   "cell_type": "code",
   "execution_count": 18,
   "metadata": {},
   "outputs": [
    {
     "data": {
      "text/plain": [
       "'18'"
      ]
     },
     "execution_count": 18,
     "metadata": {},
     "output_type": "execute_result"
    }
   ],
   "source": [
    "senate_results.iloc[1].office_title[len('State Senator - District '):]"
   ]
  },
  {
   "cell_type": "code",
   "execution_count": 19,
   "metadata": {},
   "outputs": [],
   "source": [
    "senate_results['district'] = senate_results.office_title.str[len('State Senator - District '):]"
   ]
  },
  {
   "cell_type": "code",
   "execution_count": 20,
   "metadata": {},
   "outputs": [
    {
     "data": {
      "text/plain": [
       "0.0"
      ]
     },
     "execution_count": 20,
     "metadata": {},
     "output_type": "execute_result"
    }
   ],
   "source": [
    "senate_results.no_votes.sum()"
   ]
  },
  {
   "cell_type": "code",
   "execution_count": 23,
   "metadata": {},
   "outputs": [],
   "source": [
    "senate_results = senate_results.drop(columns=['office_title', 'no_votes'])"
   ]
  },
  {
   "cell_type": "code",
   "execution_count": 24,
   "metadata": {},
   "outputs": [
    {
     "name": "stdout",
     "output_type": "stream",
     "text": [
      "<class 'pandas.core.frame.DataFrame'>\n",
      "RangeIndex: 3480 entries, 0 to 3479\n",
      "Data columns (total 5 columns):\n",
      " #   Column                 Non-Null Count  Dtype \n",
      "---  ------                 --------------  ----- \n",
      " 0   county_name            3480 non-null   object\n",
      " 1   precinct_name          3480 non-null   object\n",
      " 2   candidate_ballot_name  3480 non-null   object\n",
      " 3   yes_votes              3480 non-null   int64 \n",
      " 4   district               3480 non-null   object\n",
      "dtypes: int64(1), object(4)\n",
      "memory usage: 136.1+ KB\n"
     ]
    }
   ],
   "source": [
    "senate_results.info()"
   ]
  },
  {
   "cell_type": "code",
   "execution_count": 25,
   "metadata": {},
   "outputs": [
    {
     "data": {
      "text/html": [
       "<div>\n",
       "<style scoped>\n",
       "    .dataframe tbody tr th:only-of-type {\n",
       "        vertical-align: middle;\n",
       "    }\n",
       "\n",
       "    .dataframe tbody tr th {\n",
       "        vertical-align: top;\n",
       "    }\n",
       "\n",
       "    .dataframe thead th {\n",
       "        text-align: right;\n",
       "    }\n",
       "</style>\n",
       "<table border=\"1\" class=\"dataframe\">\n",
       "  <thead>\n",
       "    <tr style=\"text-align: right;\">\n",
       "      <th></th>\n",
       "      <th>county_name</th>\n",
       "      <th>precinct_name</th>\n",
       "      <th>candidate_ballot_name</th>\n",
       "      <th>yes_votes</th>\n",
       "      <th>district</th>\n",
       "    </tr>\n",
       "  </thead>\n",
       "  <tbody>\n",
       "    <tr>\n",
       "      <th>0</th>\n",
       "      <td>Adair</td>\n",
       "      <td>SOUTHWEST 1</td>\n",
       "      <td>Cindy O'Laughlin</td>\n",
       "      <td>283</td>\n",
       "      <td>18</td>\n",
       "    </tr>\n",
       "    <tr>\n",
       "      <th>1</th>\n",
       "      <td>Adair</td>\n",
       "      <td>SOUTHEAST 2</td>\n",
       "      <td>Cindy O'Laughlin</td>\n",
       "      <td>635</td>\n",
       "      <td>18</td>\n",
       "    </tr>\n",
       "    <tr>\n",
       "      <th>2</th>\n",
       "      <td>Adair</td>\n",
       "      <td>SOUTHEAST 3</td>\n",
       "      <td>Cindy O'Laughlin</td>\n",
       "      <td>194</td>\n",
       "      <td>18</td>\n",
       "    </tr>\n",
       "    <tr>\n",
       "      <th>3</th>\n",
       "      <td>Adair</td>\n",
       "      <td>SOUTHEAST 4</td>\n",
       "      <td>Cindy O'Laughlin</td>\n",
       "      <td>325</td>\n",
       "      <td>18</td>\n",
       "    </tr>\n",
       "    <tr>\n",
       "      <th>4</th>\n",
       "      <td>Adair</td>\n",
       "      <td>NORTHEAST 5</td>\n",
       "      <td>Cindy O'Laughlin</td>\n",
       "      <td>396</td>\n",
       "      <td>18</td>\n",
       "    </tr>\n",
       "  </tbody>\n",
       "</table>\n",
       "</div>"
      ],
      "text/plain": [
       "  county_name precinct_name candidate_ballot_name  yes_votes district\n",
       "0       Adair   SOUTHWEST 1      Cindy O'Laughlin        283       18\n",
       "1       Adair   SOUTHEAST 2      Cindy O'Laughlin        635       18\n",
       "2       Adair   SOUTHEAST 3      Cindy O'Laughlin        194       18\n",
       "3       Adair   SOUTHEAST 4      Cindy O'Laughlin        325       18\n",
       "4       Adair   NORTHEAST 5      Cindy O'Laughlin        396       18"
      ]
     },
     "execution_count": 25,
     "metadata": {},
     "output_type": "execute_result"
    }
   ],
   "source": [
    "senate_results.head()"
   ]
  },
  {
   "cell_type": "markdown",
   "metadata": {},
   "source": [
    "## House results\n",
    "\n",
    "- Filter to rows where the `office_title` contains `'Senator'`\n",
    "- Reset the index\n",
    "- Add a column that contains the district number\n",
    "- Drop the `office_title` column\n",
    "- Drop the `no_votes` column"
   ]
  },
  {
   "cell_type": "code",
   "execution_count": 27,
   "metadata": {},
   "outputs": [],
   "source": [
    "contains_rep = all_results['office_title'].str.contains('Representative')"
   ]
  },
  {
   "cell_type": "code",
   "execution_count": 28,
   "metadata": {},
   "outputs": [],
   "source": [
    "rep_results = all_results[contains_rep].reset_index(drop=True)"
   ]
  },
  {
   "cell_type": "code",
   "execution_count": 29,
   "metadata": {},
   "outputs": [
    {
     "data": {
      "text/plain": [
       "'3'"
      ]
     },
     "execution_count": 29,
     "metadata": {},
     "output_type": "execute_result"
    }
   ],
   "source": [
    "rep_results.iloc[1].office_title[len('State Representative - District '):]"
   ]
  },
  {
   "cell_type": "code",
   "execution_count": 30,
   "metadata": {},
   "outputs": [],
   "source": [
    "rep_results['district'] = rep_results.office_title.str[len('State Representative - District '):]"
   ]
  },
  {
   "cell_type": "code",
   "execution_count": 31,
   "metadata": {},
   "outputs": [
    {
     "data": {
      "text/plain": [
       "0.0"
      ]
     },
     "execution_count": 31,
     "metadata": {},
     "output_type": "execute_result"
    }
   ],
   "source": [
    "rep_results.no_votes.sum()"
   ]
  },
  {
   "cell_type": "code",
   "execution_count": 33,
   "metadata": {},
   "outputs": [],
   "source": [
    "rep_results = rep_results.drop(columns=['office_title', 'no_votes'])"
   ]
  },
  {
   "cell_type": "code",
   "execution_count": 34,
   "metadata": {},
   "outputs": [
    {
     "name": "stdout",
     "output_type": "stream",
     "text": [
      "<class 'pandas.core.frame.DataFrame'>\n",
      "RangeIndex: 7024 entries, 0 to 7023\n",
      "Data columns (total 5 columns):\n",
      " #   Column                 Non-Null Count  Dtype \n",
      "---  ------                 --------------  ----- \n",
      " 0   county_name            7024 non-null   object\n",
      " 1   precinct_name          7024 non-null   object\n",
      " 2   candidate_ballot_name  7024 non-null   object\n",
      " 3   yes_votes              7024 non-null   int64 \n",
      " 4   district               7024 non-null   object\n",
      "dtypes: int64(1), object(4)\n",
      "memory usage: 274.5+ KB\n"
     ]
    }
   ],
   "source": [
    "rep_results.info()"
   ]
  },
  {
   "cell_type": "code",
   "execution_count": 35,
   "metadata": {},
   "outputs": [
    {
     "data": {
      "text/html": [
       "<div>\n",
       "<style scoped>\n",
       "    .dataframe tbody tr th:only-of-type {\n",
       "        vertical-align: middle;\n",
       "    }\n",
       "\n",
       "    .dataframe tbody tr th {\n",
       "        vertical-align: top;\n",
       "    }\n",
       "\n",
       "    .dataframe thead th {\n",
       "        text-align: right;\n",
       "    }\n",
       "</style>\n",
       "<table border=\"1\" class=\"dataframe\">\n",
       "  <thead>\n",
       "    <tr style=\"text-align: right;\">\n",
       "      <th></th>\n",
       "      <th>county_name</th>\n",
       "      <th>precinct_name</th>\n",
       "      <th>candidate_ballot_name</th>\n",
       "      <th>yes_votes</th>\n",
       "      <th>district</th>\n",
       "    </tr>\n",
       "  </thead>\n",
       "  <tbody>\n",
       "    <tr>\n",
       "      <th>0</th>\n",
       "      <td>Adair</td>\n",
       "      <td>SOUTHWEST 1</td>\n",
       "      <td>Danny Busick</td>\n",
       "      <td>258</td>\n",
       "      <td>3</td>\n",
       "    </tr>\n",
       "    <tr>\n",
       "      <th>1</th>\n",
       "      <td>Adair</td>\n",
       "      <td>SOUTHEAST 2</td>\n",
       "      <td>Danny Busick</td>\n",
       "      <td>620</td>\n",
       "      <td>3</td>\n",
       "    </tr>\n",
       "    <tr>\n",
       "      <th>2</th>\n",
       "      <td>Adair</td>\n",
       "      <td>SOUTHEAST 3</td>\n",
       "      <td>Danny Busick</td>\n",
       "      <td>187</td>\n",
       "      <td>3</td>\n",
       "    </tr>\n",
       "    <tr>\n",
       "      <th>3</th>\n",
       "      <td>Adair</td>\n",
       "      <td>SOUTHEAST 4</td>\n",
       "      <td>Danny Busick</td>\n",
       "      <td>306</td>\n",
       "      <td>3</td>\n",
       "    </tr>\n",
       "    <tr>\n",
       "      <th>4</th>\n",
       "      <td>Adair</td>\n",
       "      <td>NORTHEAST 5</td>\n",
       "      <td>Danny Busick</td>\n",
       "      <td>373</td>\n",
       "      <td>3</td>\n",
       "    </tr>\n",
       "  </tbody>\n",
       "</table>\n",
       "</div>"
      ],
      "text/plain": [
       "  county_name precinct_name candidate_ballot_name  yes_votes district\n",
       "0       Adair   SOUTHWEST 1          Danny Busick        258        3\n",
       "1       Adair   SOUTHEAST 2          Danny Busick        620        3\n",
       "2       Adair   SOUTHEAST 3          Danny Busick        187        3\n",
       "3       Adair   SOUTHEAST 4          Danny Busick        306        3\n",
       "4       Adair   NORTHEAST 5          Danny Busick        373        3"
      ]
     },
     "execution_count": 35,
     "metadata": {},
     "output_type": "execute_result"
    }
   ],
   "source": [
    "rep_results.head()"
   ]
  },
  {
   "cell_type": "markdown",
   "metadata": {},
   "source": [
    "## Sanity check: The sum of rows in the sub-results should equal the number of rows in the full results"
   ]
  },
  {
   "cell_type": "code",
   "execution_count": 36,
   "metadata": {},
   "outputs": [],
   "source": [
    "assert len(amend_results) + len(senate_results) + len(rep_results) == len(all_results)"
   ]
  },
  {
   "cell_type": "code",
   "execution_count": 37,
   "metadata": {},
   "outputs": [],
   "source": [
    "amend_results.to_csv('amend_results.csv', index=False)"
   ]
  },
  {
   "cell_type": "code",
   "execution_count": 38,
   "metadata": {},
   "outputs": [],
   "source": [
    "senate_results.to_csv('senate_results.csv', index=False)"
   ]
  },
  {
   "cell_type": "code",
   "execution_count": 39,
   "metadata": {},
   "outputs": [],
   "source": [
    "rep_results.to_csv('rep_results.csv', index=False)"
   ]
  },
  {
   "cell_type": "code",
   "execution_count": null,
   "metadata": {},
   "outputs": [],
   "source": [
    "all_results.groupby(['', ])"
   ]
  }
 ],
 "metadata": {
  "kernelspec": {
   "display_name": "Python 3",
   "language": "python",
   "name": "python3"
  },
  "language_info": {
   "codemirror_mode": {
    "name": "ipython",
    "version": 3
   },
   "file_extension": ".py",
   "mimetype": "text/x-python",
   "name": "python",
   "nbconvert_exporter": "python",
   "pygments_lexer": "ipython3",
   "version": "3.8.2"
  }
 },
 "nbformat": 4,
 "nbformat_minor": 4
}
